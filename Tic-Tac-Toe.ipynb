{
 "cells": [
  {
   "cell_type": "code",
   "execution_count": 1,
   "id": "5e91abae-794b-4003-ba90-6ee1df8eb860",
   "metadata": {},
   "outputs": [],
   "source": [
    "#Displaying information for the crossboard\n",
    "from IPython.display import clear_output\n",
    "\n",
    "def display_board(board):\n",
    "    clear_output()\n",
    "    print(board[7]+'|'+board[8]+'|'+board[9]+'\\n'+board[4]+'|'+board[5]+'|'+board[6]+'\\n'+\n",
    "         board[1]+'|'+board[2]+'|'+board[3])\n",
    "    "
   ]
  },
  {
   "cell_type": "code",
   "execution_count": 2,
   "id": "135614eb-d373-47ce-ac0c-29d7221e992c",
   "metadata": {},
   "outputs": [],
   "source": [
    "#Retrieving the player mark selection\n",
    "def player_input():\n",
    "    flag=False\n",
    "    entry1=''\n",
    "    \n",
    "    while flag==False:\n",
    "        entry1=input('Do you want to be X or O?').upper()\n",
    "        if entry1=='X':\n",
    "            entry2='O'\n",
    "        if entry1=='O':\n",
    "            entry2='X'\n",
    "        if entry1 in ('X','O'):\n",
    "            flag=True\n",
    "        if entry1 not in ('X','O'):\n",
    "            flag=False\n",
    "            \n",
    "    return entry1,entry2"
   ]
  },
  {
   "cell_type": "code",
   "execution_count": 3,
   "id": "3d6ec59d-973a-4dd7-bb68-f1389185a76c",
   "metadata": {},
   "outputs": [],
   "source": [
    "#Entering the mark on board\n",
    "def place_marker(board, marker, position):\n",
    "    \n",
    "    board[position]=marker"
   ]
  },
  {
   "cell_type": "code",
   "execution_count": 4,
   "id": "61f0fd96-7a19-468f-b935-875a272507a2",
   "metadata": {},
   "outputs": [],
   "source": [
    "#Checking for win\n",
    "def win_check(board, mark):\n",
    "        #All Columns\n",
    "        return  ((board[1]==board[2]==board[3]==mark) or \n",
    "                (board[4]==board[5]==board[6]==mark) or\n",
    "                board[7]==board[8]==board[9]==mark or\n",
    "        #All rows\n",
    "                board[1]==board[4]==board[7]==mark or\n",
    "                board[2]==board[5]==board[8]==mark or\n",
    "                board[3]==board[6]==board[9]==mark or\n",
    "        #Diagonals\n",
    "                board[1]==board[5]==board[9]==mark or\n",
    "                board[3]==board[5]==board[7]==mark )\n",
    "    "
   ]
  },
  {
   "cell_type": "code",
   "execution_count": 5,
   "id": "091f5dc4-efaa-455f-99d2-b8a469880110",
   "metadata": {},
   "outputs": [],
   "source": [
    "#Randomly choosing the player\n",
    "import random\n",
    "\n",
    "def choose_first():\n",
    "    choice_player=random.randint(0,1)\n",
    "    \n",
    "    if choice_player==0:\n",
    "        return 'Player 2'\n",
    "    if choice_player==1:\n",
    "        return 'Player 1'  "
   ]
  },
  {
   "cell_type": "code",
   "execution_count": 6,
   "id": "d9bd12a5-323b-47c5-a51c-2dddd319a1ea",
   "metadata": {},
   "outputs": [],
   "source": [
    "#Checking for empty space\n",
    "def space_check(board, position):\n",
    "    \n",
    "    return board[position]==' '"
   ]
  },
  {
   "cell_type": "code",
   "execution_count": 7,
   "id": "41c217ab-5f8e-4ec9-aa57-33ed344aeded",
   "metadata": {},
   "outputs": [],
   "source": [
    "#Chekcing if the board is full\n",
    "def full_board_check(board):\n",
    "    \n",
    "    for i in range(1,10):\n",
    "        if space_check(board,i)==True:\n",
    "            return False\n",
    "\n",
    "    return True\n",
    "            "
   ]
  },
  {
   "cell_type": "code",
   "execution_count": 8,
   "id": "70f8a649-2dbb-403c-a95a-b33cc93bd5c6",
   "metadata": {},
   "outputs": [],
   "source": [
    "#Retrieving position from player\n",
    "def player_choice(board):\n",
    "    position = 0\n",
    "    \n",
    "    while position not in [1,2,3,4,5,6,7,8,9] or not space_check(board, position):\n",
    "        position = int(input('Choose your next position: (1-9) '))\n",
    "        \n",
    "    return position"
   ]
  },
  {
   "cell_type": "code",
   "execution_count": 9,
   "id": "4f38014d-1e21-4ce3-9bbd-80ed7ea1c2fc",
   "metadata": {},
   "outputs": [],
   "source": [
    "#Replay\n",
    "def replay():\n",
    "    \n",
    "    play_again=input('Do you want to play again? Y/N')\n",
    "    return (play_again=='Y')\n"
   ]
  },
  {
   "cell_type": "code",
   "execution_count": null,
   "id": "a128e34a-fc39-46d2-80e9-b24722e56a30",
   "metadata": {},
   "outputs": [
    {
     "name": "stdout",
     "output_type": "stream",
     "text": [
      "O|X|O\n",
      "O|X|X\n",
      "X|O|X\n",
      "TIE GAME\n"
     ]
    }
   ],
   "source": [
    "print('Welcome to Tic Tac Toe!')\n",
    "\n",
    "while True:\n",
    "    game_board=[' ',' ',' ',' ',' ',' ',' ',' ',' ',' '] \n",
    "    #display_board(game_board)\n",
    "    player1_mark,player2_mark=player_input()\n",
    "    turn=choose_first()\n",
    "    print(choose_first()+' will go first')\n",
    "    \n",
    "    play_game=input('Are you ready to play the game?Y/N')\n",
    "    if play_game=='Y':\n",
    "        game_on=True\n",
    "    else:\n",
    "        game_on=False\n",
    "        \n",
    "    while game_on:\n",
    "        if turn=='Player 1':\n",
    "            display_board(game_board)\n",
    "            position=player_choice(game_board)\n",
    "            place_marker(game_board,player1_mark,position)\n",
    "            \n",
    "            if win_check(game_board,player1_mark):\n",
    "                display_board(game_board)\n",
    "                print('Player 1 Won')\n",
    "                game_on=False\n",
    "            else:\n",
    "                if full_board_check(game_board):\n",
    "                    display_board(game_board)\n",
    "                    print('TIE GAME')\n",
    "                    break\n",
    "                else:\n",
    "                    turn='Player 2'\n",
    "        \n",
    "        # Player2's turn.\n",
    "        else:  \n",
    "                display_board(game_board)\n",
    "                position=player_choice(game_board)\n",
    "                place_marker(game_board,player2_mark,position)\n",
    "                \n",
    "                if win_check(game_board,player2_mark):\n",
    "                    display_board(game_board)\n",
    "                    print('Player 2 Won')\n",
    "                    game_on=False\n",
    "                else:\n",
    "                    if full_board_check(game_board):\n",
    "                        display_board(game_board)\n",
    "                        \n",
    "                        print('TIE GAME')\n",
    "                        break\n",
    "                    else:\n",
    "                        turn='Player 1'\n",
    "\n",
    "    if not replay():\n",
    "        break"
   ]
  },
  {
   "cell_type": "code",
   "execution_count": null,
   "id": "0a8c49f1-040a-4fc9-ac4a-7eb2cce1e0a9",
   "metadata": {},
   "outputs": [],
   "source": []
  },
  {
   "cell_type": "code",
   "execution_count": null,
   "id": "4f34da6e-5787-4bc1-8ec9-477199f9ae39",
   "metadata": {},
   "outputs": [],
   "source": []
  }
 ],
 "metadata": {
  "kernelspec": {
   "display_name": "Python 3 (ipykernel)",
   "language": "python",
   "name": "python3"
  },
  "language_info": {
   "codemirror_mode": {
    "name": "ipython",
    "version": 3
   },
   "file_extension": ".py",
   "mimetype": "text/x-python",
   "name": "python",
   "nbconvert_exporter": "python",
   "pygments_lexer": "ipython3",
   "version": "3.9.12"
  }
 },
 "nbformat": 4,
 "nbformat_minor": 5
}
