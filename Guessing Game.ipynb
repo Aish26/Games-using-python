{
 "cells": [
  {
   "cell_type": "code",
   "execution_count": 8,
   "id": "04f6e2b1-e7f2-45b8-8c36-c54d4279c985",
   "metadata": {},
   "outputs": [],
   "source": [
    "#Shuffle list\n",
    "\n",
    "from random import shuffle\n",
    "\n",
    "def shuffle_list(mylist):\n",
    "    shuffle(mylist)\n",
    "    return mylist\n",
    "\n",
    "#User input\n",
    "def user_guess():\n",
    "    guess=''\n",
    "    while guess not in['0','1','2']:\n",
    "        guess=input('Enter a number either 0,1,2')\n",
    "    return int(guess)\n",
    "\n",
    "#Check the guess\n",
    "def check_guess(mylist,guess_number):\n",
    "        if mylist[guess_number]=='O':\n",
    "            print('Correct answer')\n",
    "        else:\n",
    "            print('Wrong answer')\n"
   ]
  },
  {
   "cell_type": "code",
   "execution_count": 10,
   "id": "ca80178d-f7f2-4640-acf3-f587f578d833",
   "metadata": {},
   "outputs": [
    {
     "name": "stdin",
     "output_type": "stream",
     "text": [
      "Enter a number either 0,1,2 8\n",
      "Enter a number either 0,1,2 1\n"
     ]
    },
    {
     "name": "stdout",
     "output_type": "stream",
     "text": [
      "Correct answer\n"
     ]
    }
   ],
   "source": [
    "mylist1=['','O','']\n",
    "\n",
    "my_list=shuffle_list(mylist1)\n",
    "guess=user_guess()\n",
    "check_guess(my_list,guess)"
   ]
  },
  {
   "cell_type": "code",
   "execution_count": null,
   "id": "448b1906-073c-45c3-8a23-c6414fdaf476",
   "metadata": {},
   "outputs": [],
   "source": []
  }
 ],
 "metadata": {
  "kernelspec": {
   "display_name": "Python 3 (ipykernel)",
   "language": "python",
   "name": "python3"
  },
  "language_info": {
   "codemirror_mode": {
    "name": "ipython",
    "version": 3
   },
   "file_extension": ".py",
   "mimetype": "text/x-python",
   "name": "python",
   "nbconvert_exporter": "python",
   "pygments_lexer": "ipython3",
   "version": "3.9.12"
  }
 },
 "nbformat": 4,
 "nbformat_minor": 5
}
