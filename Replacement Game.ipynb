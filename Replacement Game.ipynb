{
 "cells": [
  {
   "cell_type": "code",
   "execution_count": 25,
   "id": "a822b414-420c-4869-8e0a-759c32ca5d0e",
   "metadata": {},
   "outputs": [],
   "source": [
    "mylist=[' ',' ',' ']\n",
    "\n",
    "def display(mylist):\n",
    "    print(mylist)"
   ]
  },
  {
   "cell_type": "code",
   "execution_count": 26,
   "id": "25dbc199-92e4-411f-8942-6dca0684dc03",
   "metadata": {},
   "outputs": [
    {
     "name": "stdout",
     "output_type": "stream",
     "text": [
      "[' ', ' ', ' ']\n"
     ]
    }
   ],
   "source": [
    "display(mylist)"
   ]
  },
  {
   "cell_type": "code",
   "execution_count": 27,
   "id": "ba5769a3-757e-4d37-8f16-22afef1ed24d",
   "metadata": {},
   "outputs": [],
   "source": [
    "#Ask user for position\n",
    "\n",
    "def position_choice():\n",
    "    choice='WRONG'\n",
    "    flag=False\n",
    "    acceptable_range=range(0,3)\n",
    "    \n",
    "    while choice.isdigit()==False or flag==False:\n",
    "        choice=input('Enter the position(0-2)')\n",
    "        flag=True\n",
    "    \n",
    "        if choice.isdigit()==False:\n",
    "            flag=False\n",
    "            print('The input is not in a valid format')\n",
    "            \n",
    "        elif choice.isdigit()==True:\n",
    "            if int(choice) not in acceptable_range:\n",
    "                flag=False\n",
    "                print('The entry is not in an acceptable range')\n",
    "            else:\n",
    "                flag=True\n",
    "                \n",
    "    return int(choice)"
   ]
  },
  {
   "cell_type": "code",
   "execution_count": 28,
   "id": "08f55675-9562-4081-a8c6-6c7eafedec7e",
   "metadata": {},
   "outputs": [
    {
     "name": "stdin",
     "output_type": "stream",
     "text": [
      "Enter the position(0-2) 1\n"
     ]
    },
    {
     "data": {
      "text/plain": [
       "1"
      ]
     },
     "execution_count": 28,
     "metadata": {},
     "output_type": "execute_result"
    }
   ],
   "source": [
    "position_choice()"
   ]
  },
  {
   "cell_type": "code",
   "execution_count": 29,
   "id": "c28d686c-10e7-403c-bca2-3b4fc0ac9e46",
   "metadata": {},
   "outputs": [],
   "source": [
    "#Input/replacement value\n",
    "\n",
    "def replacement(thelist,position):\n",
    "    thelist[position]=input('Enter the replacemnt value')\n",
    "    return  thelist"
   ]
  },
  {
   "cell_type": "code",
   "execution_count": 30,
   "id": "f589a0a5-024b-4e14-9795-4548d3983603",
   "metadata": {
    "tags": []
   },
   "outputs": [
    {
     "name": "stdin",
     "output_type": "stream",
     "text": [
      "Enter the replacemnt value 34\n"
     ]
    },
    {
     "data": {
      "text/plain": [
       "[' ', ' ', '34']"
      ]
     },
     "execution_count": 30,
     "metadata": {},
     "output_type": "execute_result"
    }
   ],
   "source": [
    "replacement(mylist,2)"
   ]
  },
  {
   "cell_type": "code",
   "execution_count": 31,
   "id": "314c75a5-b1cd-4e27-9168-03740071ed2d",
   "metadata": {},
   "outputs": [],
   "source": [
    "def game_on():\n",
    "        gameon_choice=input('Do you want to play? Yes/No')\n",
    "        \n",
    "        if gameon_choice=='Yes':\n",
    "            playing=True\n",
    "        elif gameon_choice=='No':\n",
    "            playing=False\n",
    "            \n",
    "        return playing"
   ]
  },
  {
   "cell_type": "code",
   "execution_count": 32,
   "id": "5ae8f120-b1a7-495a-a8bc-7603bc7c25b3",
   "metadata": {},
   "outputs": [
    {
     "name": "stdin",
     "output_type": "stream",
     "text": [
      "Do you want to play? Yes/No Yes\n"
     ]
    },
    {
     "data": {
      "text/plain": [
       "True"
      ]
     },
     "execution_count": 32,
     "metadata": {},
     "output_type": "execute_result"
    }
   ],
   "source": [
    "game_on()"
   ]
  },
  {
   "cell_type": "code",
   "execution_count": null,
   "id": "1d758e50-6359-4d7c-b151-e2ac6cd7216c",
   "metadata": {},
   "outputs": [
    {
     "name": "stdout",
     "output_type": "stream",
     "text": [
      "[' ', ' ', ' ']\n"
     ]
    },
    {
     "name": "stdin",
     "output_type": "stream",
     "text": [
      "Enter the position(0-2) 1\n",
      "Enter the replacemnt value 34\n"
     ]
    },
    {
     "name": "stdout",
     "output_type": "stream",
     "text": [
      "[' ', '34', ' ']\n"
     ]
    }
   ],
   "source": [
    "my_list=[' ',' ',' ']\n",
    "gameon= True\n",
    "while gameon:\n",
    "    \n",
    "    display(my_list)\n",
    "    user_position=position_choice()\n",
    "    gamelist=replacement(my_list,user_position)\n",
    "    display(gamelist)\n",
    "    gameon=game_on()"
   ]
  },
  {
   "cell_type": "code",
   "execution_count": null,
   "id": "2af894ad-b49e-46c3-ad69-e402651b5995",
   "metadata": {},
   "outputs": [],
   "source": []
  },
  {
   "cell_type": "code",
   "execution_count": null,
   "id": "7afbc080-e603-436a-8179-3d1cd3dcbe7e",
   "metadata": {},
   "outputs": [],
   "source": []
  }
 ],
 "metadata": {
  "kernelspec": {
   "display_name": "Python 3 (ipykernel)",
   "language": "python",
   "name": "python3"
  },
  "language_info": {
   "codemirror_mode": {
    "name": "ipython",
    "version": 3
   },
   "file_extension": ".py",
   "mimetype": "text/x-python",
   "name": "python",
   "nbconvert_exporter": "python",
   "pygments_lexer": "ipython3",
   "version": "3.9.12"
  }
 },
 "nbformat": 4,
 "nbformat_minor": 5
}
